{
    "metadata": {
        "kernelspec": {
            "name": "python3",
            "display_name": "Python 3 (ipykernel)",
            "language": "python"
        },
        "language_info": {
            "name": "python",
            "version": "3.8.10",
            "mimetype": "text/x-python",
            "codemirror_mode": {
                "name": "ipython",
                "version": 3
            },
            "pygments_lexer": "ipython3",
            "nbconvert_exporter": "python",
            "file_extension": ".py"
        },
        "extensions": {
            "azuredatastudio": {
                "version": 1,
                "views": []
            }
        },
        "interpreter": {
            "hash": "b55fd820d6497667805a850bbc8ca07829d28a8ac680a6e1356626fa47d6487a"
        },
        "orig_nbformat": 4
    },
    "nbformat_minor": 2,
    "nbformat": 4,
    "cells": [
        {
            "cell_type": "markdown",
            "source": [
                "# Database Migration Assistant for Azure Cosmos DB API for MongoDB\n",
                "\n",
                "This notebook can be used to gather source environment details and assess incompatibilities while migrating from your native MongoDB instance to Azure Cosmos DB API for MongoDB."
            ],
            "metadata": {
                "azdata_cell_guid": "1b579753-ef67-437f-a686-8938d25041a4"
            },
            "attachments": {}
        },
        {
            "cell_type": "markdown",
            "source": [
                "**Please update the input parameter below for the assessment.** **This would be the source cluster endpoint against which you want to run the assessment.**"
            ],
            "metadata": {
                "azdata_cell_guid": "f91f05a3-1829-43e1-be2a-0602dc93702e"
            },
            "attachments": {}
        },
        {
            "cell_type": "code",
            "source": [
                "source_connection_string = \"\""
            ],
            "metadata": {
                "azdata_cell_guid": "3dd7c08d-3595-41d2-b474-866173492bd9",
                "extensions": {
                    "azuredatastudio": {
                        "views": []
                    }
                },
                "tags": [
                    "parameters"
                ]
            },
            "outputs": [],
            "execution_count": 1
        },
        {
            "cell_type": "code",
            "source": [
                "from source_mongodb import SourceMongoDB\n",
                "source_mongodb = SourceMongoDB(endpoint=source_connection_string)"
            ],
            "metadata": {
                "azdata_cell_guid": "60b3eeff-2058-4b4b-ace7-04efb2d30f82",
                "tags": []
            },
            "outputs": [],
            "execution_count": 2
        },
        {
            "cell_type": "markdown",
            "source": [
                "**The next cell gathers source environment info from the endpoint connection string provided.**\n",
                "\n",
                "You may provide these details to the Microsoft points of contact for TCO calculation or migration discussions."
            ],
            "metadata": {
                "azdata_cell_guid": "bb12741f-a56f-458a-a5d7-abc3dbae71d5"
            },
            "attachments": {}
        },
        {
            "cell_type": "code",
            "source": [
                "source_mongodb.get_environment_info()\n",
                "source_mongodb.print_environment_info()"
            ],
            "metadata": {
                "azdata_cell_guid": "96a4cfe9-e50a-4daf-9cf4-22513df539fd",
                "tags": []
            },
            "outputs": [
                {
                    "name": "stdout",
                    "text": "MongoDB version:  4.4.10\nLicense Type:  Enterprise\n",
                    "output_type": "stream"
                }
            ],
            "execution_count": 3
        },
        {
            "cell_type": "markdown",
            "source": [
                "**The next cell gathers source workload info from the endpoint connection string provided, stores the info to csv and prints them in this notebook.**\n",
                "\n",
                "Csv output files _workload\\_database\\_details.csv_ and _workload\\_collection\\_details.csv_ would be stored in same path as the notebook."
            ],
            "metadata": {
                "azdata_cell_guid": "bb12741f-a56f-458a-a5d7-abc3dbae71d5"
            },
            "attachments": {}
        },
        {
            "cell_type": "code",
            "source": [
                "source_mongodb.get_workload_info()\n",
                "source_mongodb.save_workload_info_to_csv()\n",
                "source_mongodb.print_workload_info()"
            ],
            "metadata": {
                "azdata_cell_guid": "46ca5b09-2fa8-4a63-9368-1d147a946a82"
            },
            "outputs": [
                {
                    "name": "stdout",
                    "text": "Workload database details: \n",
                    "output_type": "stream"
                },
                {
                    "data": {
                        "text/plain": "<pandas.io.formats.style.Styler at 0x198e4ebb340>",
                        "text/html": "<style type=\"text/css\">\n#T_2620b_ th {\n  text-align: left;\n}\n#T_2620b_row0_col0, #T_2620b_row0_col1, #T_2620b_row0_col2, #T_2620b_row0_col3, #T_2620b_row0_col4, #T_2620b_row0_col5, #T_2620b_row0_col6, #T_2620b_row1_col0, #T_2620b_row1_col1, #T_2620b_row1_col2, #T_2620b_row1_col3, #T_2620b_row1_col4, #T_2620b_row1_col5, #T_2620b_row1_col6, #T_2620b_row2_col0, #T_2620b_row2_col1, #T_2620b_row2_col2, #T_2620b_row2_col3, #T_2620b_row2_col4, #T_2620b_row2_col5, #T_2620b_row2_col6, #T_2620b_row3_col0, #T_2620b_row3_col1, #T_2620b_row3_col2, #T_2620b_row3_col3, #T_2620b_row3_col4, #T_2620b_row3_col5, #T_2620b_row3_col6, #T_2620b_row4_col0, #T_2620b_row4_col1, #T_2620b_row4_col2, #T_2620b_row4_col3, #T_2620b_row4_col4, #T_2620b_row4_col5, #T_2620b_row4_col6, #T_2620b_row5_col0, #T_2620b_row5_col1, #T_2620b_row5_col2, #T_2620b_row5_col3, #T_2620b_row5_col4, #T_2620b_row5_col5, #T_2620b_row5_col6, #T_2620b_row6_col0, #T_2620b_row6_col1, #T_2620b_row6_col2, #T_2620b_row6_col3, #T_2620b_row6_col4, #T_2620b_row6_col5, #T_2620b_row6_col6, #T_2620b_row7_col0, #T_2620b_row7_col1, #T_2620b_row7_col2, #T_2620b_row7_col3, #T_2620b_row7_col4, #T_2620b_row7_col5, #T_2620b_row7_col6, #T_2620b_row8_col0, #T_2620b_row8_col1, #T_2620b_row8_col2, #T_2620b_row8_col3, #T_2620b_row8_col4, #T_2620b_row8_col5, #T_2620b_row8_col6 {\n  text-align: left;\n}\n</style>\n<table id=\"T_2620b_\">\n  <thead>\n    <tr>\n      <th class=\"blank level0\" >&nbsp;</th>\n      <th class=\"col_heading level0 col0\" >DB Name</th>\n      <th class=\"col_heading level0 col1\" >Collection Count</th>\n      <th class=\"col_heading level0 col2\" >Doc Count</th>\n      <th class=\"col_heading level0 col3\" >Avg Doc Size</th>\n      <th class=\"col_heading level0 col4\" >Data Size</th>\n      <th class=\"col_heading level0 col5\" >Index Count</th>\n      <th class=\"col_heading level0 col6\" >Index Size</th>\n    </tr>\n  </thead>\n  <tbody>\n    <tr>\n      <th id=\"T_2620b_level0_row0\" class=\"row_heading level0 row0\" >1</th>\n      <td id=\"T_2620b_row0_col0\" class=\"data row0 col0\" >sample_airbnb</td>\n      <td id=\"T_2620b_row0_col1\" class=\"data row0 col1\" >1</td>\n      <td id=\"T_2620b_row0_col2\" class=\"data row0 col2\" >5555</td>\n      <td id=\"T_2620b_row0_col3\" class=\"data row0 col3\" >16986</td>\n      <td id=\"T_2620b_row0_col4\" class=\"data row0 col4\" >94362191</td>\n      <td id=\"T_2620b_row0_col5\" class=\"data row0 col5\" >4</td>\n      <td id=\"T_2620b_row0_col6\" class=\"data row0 col6\" >544768</td>\n    </tr>\n    <tr>\n      <th id=\"T_2620b_level0_row1\" class=\"row_heading level0 row1\" >2</th>\n      <td id=\"T_2620b_row1_col0\" class=\"data row1 col0\" >sample_analytics</td>\n      <td id=\"T_2620b_row1_col1\" class=\"data row1 col1\" >3</td>\n      <td id=\"T_2620b_row1_col2\" class=\"data row1 col2\" >3992</td>\n      <td id=\"T_2620b_row1_col3\" class=\"data row1 col3\" >4147</td>\n      <td id=\"T_2620b_row1_col4\" class=\"data row1 col4\" >16557310</td>\n      <td id=\"T_2620b_row1_col5\" class=\"data row1 col5\" >3</td>\n      <td id=\"T_2620b_row1_col6\" class=\"data row1 col6\" >98304</td>\n    </tr>\n    <tr>\n      <th id=\"T_2620b_level0_row2\" class=\"row_heading level0 row2\" >3</th>\n      <td id=\"T_2620b_row2_col0\" class=\"data row2 col0\" >sample_geospatial</td>\n      <td id=\"T_2620b_row2_col1\" class=\"data row2 col1\" >1</td>\n      <td id=\"T_2620b_row2_col2\" class=\"data row2 col2\" >11095</td>\n      <td id=\"T_2620b_row2_col3\" class=\"data row2 col3\" >328</td>\n      <td id=\"T_2620b_row2_col4\" class=\"data row2 col4\" >3649283</td>\n      <td id=\"T_2620b_row2_col5\" class=\"data row2 col5\" >2</td>\n      <td id=\"T_2620b_row2_col6\" class=\"data row2 col6\" >327680</td>\n    </tr>\n    <tr>\n      <th id=\"T_2620b_level0_row3\" class=\"row_heading level0 row3\" >4</th>\n      <td id=\"T_2620b_row3_col0\" class=\"data row3 col0\" >sample_mflix</td>\n      <td id=\"T_2620b_row3_col1\" class=\"data row3 col1\" >5</td>\n      <td id=\"T_2620b_row3_col2\" class=\"data row3 col2\" >75586</td>\n      <td id=\"T_2620b_row3_col3\" class=\"data row3 col3\" >683</td>\n      <td id=\"T_2620b_row3_col4\" class=\"data row3 col4\" >51690489</td>\n      <td id=\"T_2620b_row3_col5\" class=\"data row3 col5\" >9</td>\n      <td id=\"T_2620b_row3_col6\" class=\"data row3 col6\" >20049920</td>\n    </tr>\n    <tr>\n      <th id=\"T_2620b_level0_row4\" class=\"row_heading level0 row4\" >5</th>\n      <td id=\"T_2620b_row4_col0\" class=\"data row4 col0\" >sample_restaurants</td>\n      <td id=\"T_2620b_row4_col1\" class=\"data row4 col1\" >2</td>\n      <td id=\"T_2620b_row4_col2\" class=\"data row4 col2\" >25554</td>\n      <td id=\"T_2620b_row4_col3\" class=\"data row4 col3\" >548</td>\n      <td id=\"T_2620b_row4_col4\" class=\"data row4 col4\" >14014074</td>\n      <td id=\"T_2620b_row4_col5\" class=\"data row4 col5\" >2</td>\n      <td id=\"T_2620b_row4_col6\" class=\"data row4 col6\" >372736</td>\n    </tr>\n    <tr>\n      <th id=\"T_2620b_level0_row5\" class=\"row_heading level0 row5\" >6</th>\n      <td id=\"T_2620b_row5_col0\" class=\"data row5 col0\" >sample_supplies</td>\n      <td id=\"T_2620b_row5_col1\" class=\"data row5 col1\" >1</td>\n      <td id=\"T_2620b_row5_col2\" class=\"data row5 col2\" >5000</td>\n      <td id=\"T_2620b_row5_col3\" class=\"data row5 col3\" >865</td>\n      <td id=\"T_2620b_row5_col4\" class=\"data row5 col4\" >4328222</td>\n      <td id=\"T_2620b_row5_col5\" class=\"data row5 col5\" >1</td>\n      <td id=\"T_2620b_row5_col6\" class=\"data row5 col6\" >69632</td>\n    </tr>\n    <tr>\n      <th id=\"T_2620b_level0_row6\" class=\"row_heading level0 row6\" >7</th>\n      <td id=\"T_2620b_row6_col0\" class=\"data row6 col0\" >sample_training</td>\n      <td id=\"T_2620b_row6_col1\" class=\"data row6 col1\" >7</td>\n      <td id=\"T_2620b_row6_col2\" class=\"data row6 col2\" >296502</td>\n      <td id=\"T_2620b_row6_col3\" class=\"data row6 col3\" >402</td>\n      <td id=\"T_2620b_row6_col4\" class=\"data row6 col4\" >119406985</td>\n      <td id=\"T_2620b_row6_col5\" class=\"data row6 col5\" >7</td>\n      <td id=\"T_2620b_row6_col6\" class=\"data row6 col6\" >4366336</td>\n    </tr>\n    <tr>\n      <th id=\"T_2620b_level0_row7\" class=\"row_heading level0 row7\" >8</th>\n      <td id=\"T_2620b_row7_col0\" class=\"data row7 col0\" >sample_weatherdata</td>\n      <td id=\"T_2620b_row7_col1\" class=\"data row7 col1\" >1</td>\n      <td id=\"T_2620b_row7_col2\" class=\"data row7 col2\" >10000</td>\n      <td id=\"T_2620b_row7_col3\" class=\"data row7 col3\" >1693</td>\n      <td id=\"T_2620b_row7_col4\" class=\"data row7 col4\" >16932624</td>\n      <td id=\"T_2620b_row7_col5\" class=\"data row7 col5\" >1</td>\n      <td id=\"T_2620b_row7_col6\" class=\"data row7 col6\" >131072</td>\n    </tr>\n    <tr>\n      <th id=\"T_2620b_level0_row8\" class=\"row_heading level0 row8\" >9</th>\n      <td id=\"T_2620b_row8_col0\" class=\"data row8 col0\" >test123</td>\n      <td id=\"T_2620b_row8_col1\" class=\"data row8 col1\" >1</td>\n      <td id=\"T_2620b_row8_col2\" class=\"data row8 col2\" >23530</td>\n      <td id=\"T_2620b_row8_col3\" class=\"data row8 col3\" >1583</td>\n      <td id=\"T_2620b_row8_col4\" class=\"data row8 col4\" >37248478</td>\n      <td id=\"T_2620b_row8_col5\" class=\"data row8 col5\" >1</td>\n      <td id=\"T_2620b_row8_col6\" class=\"data row8 col6\" >466944</td>\n    </tr>\n  </tbody>\n</table>\n"
                    },
                    "metadata": {},
                    "output_type": "display_data"
                },
                {
                    "name": "stdout",
                    "text": "Workload collection details: \n",
                    "output_type": "stream"
                },
                {
                    "data": {
                        "text/plain": "<pandas.io.formats.style.Styler at 0x198e4ebb340>",
                        "text/html": "<style type=\"text/css\">\n#T_7092e_ th {\n  text-align: left;\n}\n#T_7092e_row0_col0, #T_7092e_row0_col1, #T_7092e_row0_col2, #T_7092e_row0_col3, #T_7092e_row0_col4, #T_7092e_row0_col5, #T_7092e_row0_col6, #T_7092e_row1_col0, #T_7092e_row1_col1, #T_7092e_row1_col2, #T_7092e_row1_col3, #T_7092e_row1_col4, #T_7092e_row1_col5, #T_7092e_row1_col6, #T_7092e_row2_col0, #T_7092e_row2_col1, #T_7092e_row2_col2, #T_7092e_row2_col3, #T_7092e_row2_col4, #T_7092e_row2_col5, #T_7092e_row2_col6, #T_7092e_row3_col0, #T_7092e_row3_col1, #T_7092e_row3_col2, #T_7092e_row3_col3, #T_7092e_row3_col4, #T_7092e_row3_col5, #T_7092e_row3_col6, #T_7092e_row4_col0, #T_7092e_row4_col1, #T_7092e_row4_col2, #T_7092e_row4_col3, #T_7092e_row4_col4, #T_7092e_row4_col5, #T_7092e_row4_col6, #T_7092e_row5_col0, #T_7092e_row5_col1, #T_7092e_row5_col2, #T_7092e_row5_col3, #T_7092e_row5_col4, #T_7092e_row5_col5, #T_7092e_row5_col6, #T_7092e_row6_col0, #T_7092e_row6_col1, #T_7092e_row6_col2, #T_7092e_row6_col3, #T_7092e_row6_col4, #T_7092e_row6_col5, #T_7092e_row6_col6, #T_7092e_row7_col0, #T_7092e_row7_col1, #T_7092e_row7_col2, #T_7092e_row7_col3, #T_7092e_row7_col4, #T_7092e_row7_col5, #T_7092e_row7_col6, #T_7092e_row8_col0, #T_7092e_row8_col1, #T_7092e_row8_col2, #T_7092e_row8_col3, #T_7092e_row8_col4, #T_7092e_row8_col5, #T_7092e_row8_col6, #T_7092e_row9_col0, #T_7092e_row9_col1, #T_7092e_row9_col2, #T_7092e_row9_col3, #T_7092e_row9_col4, #T_7092e_row9_col5, #T_7092e_row9_col6, #T_7092e_row10_col0, #T_7092e_row10_col1, #T_7092e_row10_col2, #T_7092e_row10_col3, #T_7092e_row10_col4, #T_7092e_row10_col5, #T_7092e_row10_col6, #T_7092e_row11_col0, #T_7092e_row11_col1, #T_7092e_row11_col2, #T_7092e_row11_col3, #T_7092e_row11_col4, #T_7092e_row11_col5, #T_7092e_row11_col6, #T_7092e_row12_col0, #T_7092e_row12_col1, #T_7092e_row12_col2, #T_7092e_row12_col3, #T_7092e_row12_col4, #T_7092e_row12_col5, #T_7092e_row12_col6, #T_7092e_row13_col0, #T_7092e_row13_col1, #T_7092e_row13_col2, #T_7092e_row13_col3, #T_7092e_row13_col4, #T_7092e_row13_col5, #T_7092e_row13_col6, #T_7092e_row14_col0, #T_7092e_row14_col1, #T_7092e_row14_col2, #T_7092e_row14_col3, #T_7092e_row14_col4, #T_7092e_row14_col5, #T_7092e_row14_col6, #T_7092e_row15_col0, #T_7092e_row15_col1, #T_7092e_row15_col2, #T_7092e_row15_col3, #T_7092e_row15_col4, #T_7092e_row15_col5, #T_7092e_row15_col6, #T_7092e_row16_col0, #T_7092e_row16_col1, #T_7092e_row16_col2, #T_7092e_row16_col3, #T_7092e_row16_col4, #T_7092e_row16_col5, #T_7092e_row16_col6, #T_7092e_row17_col0, #T_7092e_row17_col1, #T_7092e_row17_col2, #T_7092e_row17_col3, #T_7092e_row17_col4, #T_7092e_row17_col5, #T_7092e_row17_col6, #T_7092e_row18_col0, #T_7092e_row18_col1, #T_7092e_row18_col2, #T_7092e_row18_col3, #T_7092e_row18_col4, #T_7092e_row18_col5, #T_7092e_row18_col6, #T_7092e_row19_col0, #T_7092e_row19_col1, #T_7092e_row19_col2, #T_7092e_row19_col3, #T_7092e_row19_col4, #T_7092e_row19_col5, #T_7092e_row19_col6, #T_7092e_row20_col0, #T_7092e_row20_col1, #T_7092e_row20_col2, #T_7092e_row20_col3, #T_7092e_row20_col4, #T_7092e_row20_col5, #T_7092e_row20_col6, #T_7092e_row21_col0, #T_7092e_row21_col1, #T_7092e_row21_col2, #T_7092e_row21_col3, #T_7092e_row21_col4, #T_7092e_row21_col5, #T_7092e_row21_col6 {\n  text-align: left;\n}\n</style>\n<table id=\"T_7092e_\">\n  <thead>\n    <tr>\n      <th class=\"blank level0\" >&nbsp;</th>\n      <th class=\"col_heading level0 col0\" >DB Name</th>\n      <th class=\"col_heading level0 col1\" >Collection Name</th>\n      <th class=\"col_heading level0 col2\" >Doc Count</th>\n      <th class=\"col_heading level0 col3\" >Avg Doc Size</th>\n      <th class=\"col_heading level0 col4\" >Data Size</th>\n      <th class=\"col_heading level0 col5\" >Index Count</th>\n      <th class=\"col_heading level0 col6\" >Index Size</th>\n    </tr>\n  </thead>\n  <tbody>\n    <tr>\n      <th id=\"T_7092e_level0_row0\" class=\"row_heading level0 row0\" >1</th>\n      <td id=\"T_7092e_row0_col0\" class=\"data row0 col0\" >sample_airbnb</td>\n      <td id=\"T_7092e_row0_col1\" class=\"data row0 col1\" >listingsAndReviews</td>\n      <td id=\"T_7092e_row0_col2\" class=\"data row0 col2\" >5555</td>\n      <td id=\"T_7092e_row0_col3\" class=\"data row0 col3\" >16986</td>\n      <td id=\"T_7092e_row0_col4\" class=\"data row0 col4\" >94362191</td>\n      <td id=\"T_7092e_row0_col5\" class=\"data row0 col5\" >4</td>\n      <td id=\"T_7092e_row0_col6\" class=\"data row0 col6\" >544768</td>\n    </tr>\n    <tr>\n      <th id=\"T_7092e_level0_row1\" class=\"row_heading level0 row1\" >2</th>\n      <td id=\"T_7092e_row1_col0\" class=\"data row1 col0\" >sample_analytics</td>\n      <td id=\"T_7092e_row1_col1\" class=\"data row1 col1\" >customers</td>\n      <td id=\"T_7092e_row1_col2\" class=\"data row1 col2\" >500</td>\n      <td id=\"T_7092e_row1_col3\" class=\"data row1 col3\" >391</td>\n      <td id=\"T_7092e_row1_col4\" class=\"data row1 col4\" >195806</td>\n      <td id=\"T_7092e_row1_col5\" class=\"data row1 col5\" >1</td>\n      <td id=\"T_7092e_row1_col6\" class=\"data row1 col6\" >20480</td>\n    </tr>\n    <tr>\n      <th id=\"T_7092e_level0_row2\" class=\"row_heading level0 row2\" >3</th>\n      <td id=\"T_7092e_row2_col0\" class=\"data row2 col0\" >sample_analytics</td>\n      <td id=\"T_7092e_row2_col1\" class=\"data row2 col1\" >transactions</td>\n      <td id=\"T_7092e_row2_col2\" class=\"data row2 col2\" >1746</td>\n      <td id=\"T_7092e_row2_col3\" class=\"data row2 col3\" >9242</td>\n      <td id=\"T_7092e_row2_col4\" class=\"data row2 col4\" >16138269</td>\n      <td id=\"T_7092e_row2_col5\" class=\"data row2 col5\" >1</td>\n      <td id=\"T_7092e_row2_col6\" class=\"data row2 col6\" >36864</td>\n    </tr>\n    <tr>\n      <th id=\"T_7092e_level0_row3\" class=\"row_heading level0 row3\" >4</th>\n      <td id=\"T_7092e_row3_col0\" class=\"data row3 col0\" >sample_analytics</td>\n      <td id=\"T_7092e_row3_col1\" class=\"data row3 col1\" >accounts</td>\n      <td id=\"T_7092e_row3_col2\" class=\"data row3 col2\" >1746</td>\n      <td id=\"T_7092e_row3_col3\" class=\"data row3 col3\" >127</td>\n      <td id=\"T_7092e_row3_col4\" class=\"data row3 col4\" >223235</td>\n      <td id=\"T_7092e_row3_col5\" class=\"data row3 col5\" >1</td>\n      <td id=\"T_7092e_row3_col6\" class=\"data row3 col6\" >40960</td>\n    </tr>\n    <tr>\n      <th id=\"T_7092e_level0_row4\" class=\"row_heading level0 row4\" >5</th>\n      <td id=\"T_7092e_row4_col0\" class=\"data row4 col0\" >sample_geospatial</td>\n      <td id=\"T_7092e_row4_col1\" class=\"data row4 col1\" >shipwrecks</td>\n      <td id=\"T_7092e_row4_col2\" class=\"data row4 col2\" >11095</td>\n      <td id=\"T_7092e_row4_col3\" class=\"data row4 col3\" >328</td>\n      <td id=\"T_7092e_row4_col4\" class=\"data row4 col4\" >3649283</td>\n      <td id=\"T_7092e_row4_col5\" class=\"data row4 col5\" >2</td>\n      <td id=\"T_7092e_row4_col6\" class=\"data row4 col6\" >327680</td>\n    </tr>\n    <tr>\n      <th id=\"T_7092e_level0_row5\" class=\"row_heading level0 row5\" >6</th>\n      <td id=\"T_7092e_row5_col0\" class=\"data row5 col0\" >sample_mflix</td>\n      <td id=\"T_7092e_row5_col1\" class=\"data row5 col1\" >sessions</td>\n      <td id=\"T_7092e_row5_col2\" class=\"data row5 col2\" >2</td>\n      <td id=\"T_7092e_row5_col3\" class=\"data row5 col3\" >410</td>\n      <td id=\"T_7092e_row5_col4\" class=\"data row5 col4\" >821</td>\n      <td id=\"T_7092e_row5_col5\" class=\"data row5 col5\" >2</td>\n      <td id=\"T_7092e_row5_col6\" class=\"data row5 col6\" >40960</td>\n    </tr>\n    <tr>\n      <th id=\"T_7092e_level0_row6\" class=\"row_heading level0 row6\" >7</th>\n      <td id=\"T_7092e_row6_col0\" class=\"data row6 col0\" >sample_mflix</td>\n      <td id=\"T_7092e_row6_col1\" class=\"data row6 col1\" >movies</td>\n      <td id=\"T_7092e_row6_col2\" class=\"data row6 col2\" >23530</td>\n      <td id=\"T_7092e_row6_col3\" class=\"data row6 col3\" >1573</td>\n      <td id=\"T_7092e_row6_col4\" class=\"data row6 col4\" >37016510</td>\n      <td id=\"T_7092e_row6_col5\" class=\"data row6 col5\" >2</td>\n      <td id=\"T_7092e_row6_col6\" class=\"data row6 col6\" >19353600</td>\n    </tr>\n    <tr>\n      <th id=\"T_7092e_level0_row7\" class=\"row_heading level0 row7\" >8</th>\n      <td id=\"T_7092e_row7_col0\" class=\"data row7 col0\" >sample_mflix</td>\n      <td id=\"T_7092e_row7_col1\" class=\"data row7 col1\" >theaters</td>\n      <td id=\"T_7092e_row7_col2\" class=\"data row7 col2\" >1564</td>\n      <td id=\"T_7092e_row7_col3\" class=\"data row7 col3\" >223</td>\n      <td id=\"T_7092e_row7_col4\" class=\"data row7 col4\" >349831</td>\n      <td id=\"T_7092e_row7_col5\" class=\"data row7 col5\" >2</td>\n      <td id=\"T_7092e_row7_col6\" class=\"data row7 col6\" >73728</td>\n    </tr>\n    <tr>\n      <th id=\"T_7092e_level0_row8\" class=\"row_heading level0 row8\" >9</th>\n      <td id=\"T_7092e_row8_col0\" class=\"data row8 col0\" >sample_mflix</td>\n      <td id=\"T_7092e_row8_col1\" class=\"data row8 col1\" >users</td>\n      <td id=\"T_7092e_row8_col2\" class=\"data row8 col2\" >185</td>\n      <td id=\"T_7092e_row8_col3\" class=\"data row8 col3\" >159</td>\n      <td id=\"T_7092e_row8_col4\" class=\"data row8 col4\" >29561</td>\n      <td id=\"T_7092e_row8_col5\" class=\"data row8 col5\" >2</td>\n      <td id=\"T_7092e_row8_col6\" class=\"data row8 col6\" >45056</td>\n    </tr>\n    <tr>\n      <th id=\"T_7092e_level0_row9\" class=\"row_heading level0 row9\" >10</th>\n      <td id=\"T_7092e_row9_col0\" class=\"data row9 col0\" >sample_mflix</td>\n      <td id=\"T_7092e_row9_col1\" class=\"data row9 col1\" >comments</td>\n      <td id=\"T_7092e_row9_col2\" class=\"data row9 col2\" >50305</td>\n      <td id=\"T_7092e_row9_col3\" class=\"data row9 col3\" >284</td>\n      <td id=\"T_7092e_row9_col4\" class=\"data row9 col4\" >14293766</td>\n      <td id=\"T_7092e_row9_col5\" class=\"data row9 col5\" >1</td>\n      <td id=\"T_7092e_row9_col6\" class=\"data row9 col6\" >536576</td>\n    </tr>\n    <tr>\n      <th id=\"T_7092e_level0_row10\" class=\"row_heading level0 row10\" >11</th>\n      <td id=\"T_7092e_row10_col0\" class=\"data row10 col0\" >sample_restaurants</td>\n      <td id=\"T_7092e_row10_col1\" class=\"data row10 col1\" >neighborhoods</td>\n      <td id=\"T_7092e_row10_col2\" class=\"data row10 col2\" >195</td>\n      <td id=\"T_7092e_row10_col3\" class=\"data row10 col3\" >17383</td>\n      <td id=\"T_7092e_row10_col4\" class=\"data row10 col4\" >3389859</td>\n      <td id=\"T_7092e_row10_col5\" class=\"data row10 col5\" >1</td>\n      <td id=\"T_7092e_row10_col6\" class=\"data row10 col6\" >20480</td>\n    </tr>\n    <tr>\n      <th id=\"T_7092e_level0_row11\" class=\"row_heading level0 row11\" >12</th>\n      <td id=\"T_7092e_row11_col0\" class=\"data row11 col0\" >sample_restaurants</td>\n      <td id=\"T_7092e_row11_col1\" class=\"data row11 col1\" >restaurants</td>\n      <td id=\"T_7092e_row11_col2\" class=\"data row11 col2\" >25359</td>\n      <td id=\"T_7092e_row11_col3\" class=\"data row11 col3\" >418</td>\n      <td id=\"T_7092e_row11_col4\" class=\"data row11 col4\" >10624215</td>\n      <td id=\"T_7092e_row11_col5\" class=\"data row11 col5\" >1</td>\n      <td id=\"T_7092e_row11_col6\" class=\"data row11 col6\" >352256</td>\n    </tr>\n    <tr>\n      <th id=\"T_7092e_level0_row12\" class=\"row_heading level0 row12\" >13</th>\n      <td id=\"T_7092e_row12_col0\" class=\"data row12 col0\" >sample_supplies</td>\n      <td id=\"T_7092e_row12_col1\" class=\"data row12 col1\" >sales</td>\n      <td id=\"T_7092e_row12_col2\" class=\"data row12 col2\" >5000</td>\n      <td id=\"T_7092e_row12_col3\" class=\"data row12 col3\" >865</td>\n      <td id=\"T_7092e_row12_col4\" class=\"data row12 col4\" >4328222</td>\n      <td id=\"T_7092e_row12_col5\" class=\"data row12 col5\" >1</td>\n      <td id=\"T_7092e_row12_col6\" class=\"data row12 col6\" >69632</td>\n    </tr>\n    <tr>\n      <th id=\"T_7092e_level0_row13\" class=\"row_heading level0 row13\" >14</th>\n      <td id=\"T_7092e_row13_col0\" class=\"data row13 col0\" >sample_training</td>\n      <td id=\"T_7092e_row13_col1\" class=\"data row13 col1\" >inspections</td>\n      <td id=\"T_7092e_row13_col2\" class=\"data row13 col2\" >80047</td>\n      <td id=\"T_7092e_row13_col3\" class=\"data row13 col3\" >276</td>\n      <td id=\"T_7092e_row13_col4\" class=\"data row13 col4\" >22153565</td>\n      <td id=\"T_7092e_row13_col5\" class=\"data row13 col5\" >1</td>\n      <td id=\"T_7092e_row13_col6\" class=\"data row13 col6\" >1081344</td>\n    </tr>\n    <tr>\n      <th id=\"T_7092e_level0_row14\" class=\"row_heading level0 row14\" >15</th>\n      <td id=\"T_7092e_row14_col0\" class=\"data row14 col0\" >sample_training</td>\n      <td id=\"T_7092e_row14_col1\" class=\"data row14 col1\" >companies</td>\n      <td id=\"T_7092e_row14_col2\" class=\"data row14 col2\" >9500</td>\n      <td id=\"T_7092e_row14_col3\" class=\"data row14 col3\" >3839</td>\n      <td id=\"T_7092e_row14_col4\" class=\"data row14 col4\" >36475858</td>\n      <td id=\"T_7092e_row14_col5\" class=\"data row14 col5\" >1</td>\n      <td id=\"T_7092e_row14_col6\" class=\"data row14 col6\" >290816</td>\n    </tr>\n    <tr>\n      <th id=\"T_7092e_level0_row15\" class=\"row_heading level0 row15\" >16</th>\n      <td id=\"T_7092e_row15_col0\" class=\"data row15 col0\" >sample_training</td>\n      <td id=\"T_7092e_row15_col1\" class=\"data row15 col1\" >routes</td>\n      <td id=\"T_7092e_row15_col2\" class=\"data row15 col2\" >66985</td>\n      <td id=\"T_7092e_row15_col3\" class=\"data row15 col3\" >184</td>\n      <td id=\"T_7092e_row15_col4\" class=\"data row15 col4\" >12334501</td>\n      <td id=\"T_7092e_row15_col5\" class=\"data row15 col5\" >1</td>\n      <td id=\"T_7092e_row15_col6\" class=\"data row15 col6\" >970752</td>\n    </tr>\n    <tr>\n      <th id=\"T_7092e_level0_row16\" class=\"row_heading level0 row16\" >17</th>\n      <td id=\"T_7092e_row16_col0\" class=\"data row16 col0\" >sample_training</td>\n      <td id=\"T_7092e_row16_col1\" class=\"data row16 col1\" >zips</td>\n      <td id=\"T_7092e_row16_col2\" class=\"data row16 col2\" >29470</td>\n      <td id=\"T_7092e_row16_col3\" class=\"data row16 col3\" >111</td>\n      <td id=\"T_7092e_row16_col4\" class=\"data row16 col4\" >3285790</td>\n      <td id=\"T_7092e_row16_col5\" class=\"data row16 col5\" >1</td>\n      <td id=\"T_7092e_row16_col6\" class=\"data row16 col6\" >536576</td>\n    </tr>\n    <tr>\n      <th id=\"T_7092e_level0_row17\" class=\"row_heading level0 row17\" >18</th>\n      <td id=\"T_7092e_row17_col0\" class=\"data row17 col0\" >sample_training</td>\n      <td id=\"T_7092e_row17_col1\" class=\"data row17 col1\" >posts</td>\n      <td id=\"T_7092e_row17_col2\" class=\"data row17 col2\" >500</td>\n      <td id=\"T_7092e_row17_col3\" class=\"data row17 col3\" >34906</td>\n      <td id=\"T_7092e_row17_col4\" class=\"data row17 col4\" >17453403</td>\n      <td id=\"T_7092e_row17_col5\" class=\"data row17 col5\" >1</td>\n      <td id=\"T_7092e_row17_col6\" class=\"data row17 col6\" >24576</td>\n    </tr>\n    <tr>\n      <th id=\"T_7092e_level0_row18\" class=\"row_heading level0 row18\" >19</th>\n      <td id=\"T_7092e_row18_col0\" class=\"data row18 col0\" >sample_training</td>\n      <td id=\"T_7092e_row18_col1\" class=\"data row18 col1\" >grades</td>\n      <td id=\"T_7092e_row18_col2\" class=\"data row18 col2\" >100000</td>\n      <td id=\"T_7092e_row18_col3\" class=\"data row18 col3\" >233</td>\n      <td id=\"T_7092e_row18_col4\" class=\"data row18 col4\" >23300000</td>\n      <td id=\"T_7092e_row18_col5\" class=\"data row18 col5\" >1</td>\n      <td id=\"T_7092e_row18_col6\" class=\"data row18 col6\" >1347584</td>\n    </tr>\n    <tr>\n      <th id=\"T_7092e_level0_row19\" class=\"row_heading level0 row19\" >20</th>\n      <td id=\"T_7092e_row19_col0\" class=\"data row19 col0\" >sample_training</td>\n      <td id=\"T_7092e_row19_col1\" class=\"data row19 col1\" >trips</td>\n      <td id=\"T_7092e_row19_col2\" class=\"data row19 col2\" >10000</td>\n      <td id=\"T_7092e_row19_col3\" class=\"data row19 col3\" >440</td>\n      <td id=\"T_7092e_row19_col4\" class=\"data row19 col4\" >4403868</td>\n      <td id=\"T_7092e_row19_col5\" class=\"data row19 col5\" >1</td>\n      <td id=\"T_7092e_row19_col6\" class=\"data row19 col6\" >114688</td>\n    </tr>\n    <tr>\n      <th id=\"T_7092e_level0_row20\" class=\"row_heading level0 row20\" >21</th>\n      <td id=\"T_7092e_row20_col0\" class=\"data row20 col0\" >sample_weatherdata</td>\n      <td id=\"T_7092e_row20_col1\" class=\"data row20 col1\" >data</td>\n      <td id=\"T_7092e_row20_col2\" class=\"data row20 col2\" >10000</td>\n      <td id=\"T_7092e_row20_col3\" class=\"data row20 col3\" >1693</td>\n      <td id=\"T_7092e_row20_col4\" class=\"data row20 col4\" >16932624</td>\n      <td id=\"T_7092e_row20_col5\" class=\"data row20 col5\" >1</td>\n      <td id=\"T_7092e_row20_col6\" class=\"data row20 col6\" >131072</td>\n    </tr>\n    <tr>\n      <th id=\"T_7092e_level0_row21\" class=\"row_heading level0 row21\" >22</th>\n      <td id=\"T_7092e_row21_col0\" class=\"data row21 col0\" >test123</td>\n      <td id=\"T_7092e_row21_col1\" class=\"data row21 col1\" >movies</td>\n      <td id=\"T_7092e_row21_col2\" class=\"data row21 col2\" >23530</td>\n      <td id=\"T_7092e_row21_col3\" class=\"data row21 col3\" >1583</td>\n      <td id=\"T_7092e_row21_col4\" class=\"data row21 col4\" >37248478</td>\n      <td id=\"T_7092e_row21_col5\" class=\"data row21 col5\" >1</td>\n      <td id=\"T_7092e_row21_col6\" class=\"data row21 col6\" >466944</td>\n    </tr>\n  </tbody>\n</table>\n"
                    },
                    "metadata": {},
                    "output_type": "display_data"
                }
            ],
            "execution_count": 4
        }
    ]
}