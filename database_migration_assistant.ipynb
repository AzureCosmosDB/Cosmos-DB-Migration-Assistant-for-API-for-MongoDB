{
    "cells": [
        {
            "attachments": {},
            "cell_type": "markdown",
            "metadata": {
                "azdata_cell_guid": "1b579753-ef67-437f-a686-8938d25041a4"
            },
            "source": [
                "# Database Migration Assistant for Azure Cosmos DB API for MongoDB\n",
                "\n",
                "This notebook can be used to gather source environment details and assess incompatibilities while migrating from your native MongoDB instance to Azure Cosmos DB API for MongoDB."
            ]
        },
        {
            "attachments": {},
            "cell_type": "markdown",
            "metadata": {
                "azdata_cell_guid": "f91f05a3-1829-43e1-be2a-0602dc93702e"
            },
            "source": [
                "**Please update the input parameter below for the assessment.** **This would be the source cluster endpoint against which you want to run the assessment.**"
            ]
        },
        {
            "cell_type": "code",
            "execution_count": 1,
            "metadata": {
                "azdata_cell_guid": "3dd7c08d-3595-41d2-b474-866173492bd9",
                "extensions": {
                    "azuredatastudio": {
                        "views": []
                    }
                },
                "tags": [
                    "parameters"
                ]
            },
            "outputs": [],
            "source": [
                "source_connection_string = \"\""
            ]
        },
        {
            "cell_type": "code",
            "execution_count": 2,
            "metadata": {
                "azdata_cell_guid": "60b3eeff-2058-4b4b-ace7-04efb2d30f82",
                "tags": []
            },
            "outputs": [],
            "source": [
                "from source_mongodb import SourceMongoDB\n",
                "source_mongodb = SourceMongoDB(endpoint=source_connection_string)"
            ]
        },
        {
            "attachments": {},
            "cell_type": "markdown",
            "metadata": {
                "azdata_cell_guid": "bb12741f-a56f-458a-a5d7-abc3dbae71d5"
            },
            "source": [
                "**The next cell gathers source environment info from the endpoint connection string provided.**\n",
                "\n",
                "You may provide these details to the Microsoft points of contact for TCO calculation or migration discussions."
            ]
        },
        {
            "cell_type": "code",
            "execution_count": 3,
            "metadata": {
                "azdata_cell_guid": "96a4cfe9-e50a-4daf-9cf4-22513df539fd",
                "tags": []
            },
            "outputs": [
                {
                    "name": "stdout",
                    "output_type": "stream",
                    "text": [
                        "MongoDB version:  4.0.23\n",
                        "License Type:  Community\n"
                    ]
                }
            ],
            "source": [
                "source_mongodb.get_environment_info()\n",
                "source_mongodb.print_environment_info()"
            ]
        },
        {
            "attachments": {},
            "cell_type": "markdown",
            "metadata": {
                "azdata_cell_guid": "bb12741f-a56f-458a-a5d7-abc3dbae71d5"
            },
            "source": [
                "**The next cell gathers source workload info from the endpoint connection string provided, stores the info to csv and prints them in this notebook.**\n",
                "\n",
                "Csv output files _workload\\_database\\_details.csv_ would be stored in same path as the notebook."
            ]
        },
        {
            "cell_type": "code",
            "execution_count": 4,
            "metadata": {
                "azdata_cell_guid": "46ca5b09-2fa8-4a63-9368-1d147a946a82"
            },
            "outputs": [
                {
                    "name": "stdout",
                    "output_type": "stream",
                    "text": [
                        "Workload database details: \n"
                    ]
                },
                {
                    "data": {
                        "text/html": [
                            "<style type=\"text/css\">\n",
                            "#T_fa034_ th {\n",
                            "  text-align: left;\n",
                            "}\n",
                            "#T_fa034_row0_col0, #T_fa034_row0_col1, #T_fa034_row0_col2, #T_fa034_row0_col3, #T_fa034_row0_col4, #T_fa034_row0_col5, #T_fa034_row0_col6, #T_fa034_row1_col0, #T_fa034_row1_col1, #T_fa034_row1_col2, #T_fa034_row1_col3, #T_fa034_row1_col4, #T_fa034_row1_col5, #T_fa034_row1_col6, #T_fa034_row2_col0, #T_fa034_row2_col1, #T_fa034_row2_col2, #T_fa034_row2_col3, #T_fa034_row2_col4, #T_fa034_row2_col5, #T_fa034_row2_col6, #T_fa034_row3_col0, #T_fa034_row3_col1, #T_fa034_row3_col2, #T_fa034_row3_col3, #T_fa034_row3_col4, #T_fa034_row3_col5, #T_fa034_row3_col6, #T_fa034_row4_col0, #T_fa034_row4_col1, #T_fa034_row4_col2, #T_fa034_row4_col3, #T_fa034_row4_col4, #T_fa034_row4_col5, #T_fa034_row4_col6, #T_fa034_row5_col0, #T_fa034_row5_col1, #T_fa034_row5_col2, #T_fa034_row5_col3, #T_fa034_row5_col4, #T_fa034_row5_col5, #T_fa034_row5_col6, #T_fa034_row6_col0, #T_fa034_row6_col1, #T_fa034_row6_col2, #T_fa034_row6_col3, #T_fa034_row6_col4, #T_fa034_row6_col5, #T_fa034_row6_col6, #T_fa034_row7_col0, #T_fa034_row7_col1, #T_fa034_row7_col2, #T_fa034_row7_col3, #T_fa034_row7_col4, #T_fa034_row7_col5, #T_fa034_row7_col6, #T_fa034_row8_col0, #T_fa034_row8_col1, #T_fa034_row8_col2, #T_fa034_row8_col3, #T_fa034_row8_col4, #T_fa034_row8_col5, #T_fa034_row8_col6 {\n",
                            "  text-align: left;\n",
                            "}\n",
                            "</style>\n",
                            "<table id=\"T_fa034_\">\n",
                            "  <thead>\n",
                            "    <tr>\n",
                            "      <th class=\"blank level0\" >&nbsp;</th>\n",
                            "      <th class=\"col_heading level0 col0\" >DB Name</th>\n",
                            "      <th class=\"col_heading level0 col1\" >Collection Count</th>\n",
                            "      <th class=\"col_heading level0 col2\" >Doc Count</th>\n",
                            "      <th class=\"col_heading level0 col3\" >Avg Doc Size</th>\n",
                            "      <th class=\"col_heading level0 col4\" >Data Size</th>\n",
                            "      <th class=\"col_heading level0 col5\" >Index Count</th>\n",
                            "      <th class=\"col_heading level0 col6\" >Index Size</th>\n",
                            "    </tr>\n",
                            "  </thead>\n",
                            "  <tbody>\n",
                            "    <tr>\n",
                            "      <th id=\"T_fa034_level0_row0\" class=\"row_heading level0 row0\" >1</th>\n",
                            "      <td id=\"T_fa034_row0_col0\" class=\"data row0 col0\" >admin</td>\n",
                            "      <td id=\"T_fa034_row0_col1\" class=\"data row0 col1\" >2</td>\n",
                            "      <td id=\"T_fa034_row0_col2\" class=\"data row0 col2\" >11</td>\n",
                            "      <td id=\"T_fa034_row0_col3\" class=\"data row0 col3\" >482</td>\n",
                            "      <td id=\"T_fa034_row0_col4\" class=\"data row0 col4\" >5308</td>\n",
                            "      <td id=\"T_fa034_row0_col5\" class=\"data row0 col5\" >3</td>\n",
                            "      <td id=\"T_fa034_row0_col6\" class=\"data row0 col6\" >106496</td>\n",
                            "    </tr>\n",
                            "    <tr>\n",
                            "      <th id=\"T_fa034_level0_row1\" class=\"row_heading level0 row1\" >2</th>\n",
                            "      <td id=\"T_fa034_row1_col0\" class=\"data row1 col0\" >bookstoretest</td>\n",
                            "      <td id=\"T_fa034_row1_col1\" class=\"data row1 col1\" >2</td>\n",
                            "      <td id=\"T_fa034_row1_col2\" class=\"data row1 col2\" >192200</td>\n",
                            "      <td id=\"T_fa034_row1_col3\" class=\"data row1 col3\" >4144</td>\n",
                            "      <td id=\"T_fa034_row1_col4\" class=\"data row1 col4\" >796572532</td>\n",
                            "      <td id=\"T_fa034_row1_col5\" class=\"data row1 col5\" >2</td>\n",
                            "      <td id=\"T_fa034_row1_col6\" class=\"data row1 col6\" >1769472</td>\n",
                            "    </tr>\n",
                            "    <tr>\n",
                            "      <th id=\"T_fa034_level0_row2\" class=\"row_heading level0 row2\" >3</th>\n",
                            "      <td id=\"T_fa034_row2_col0\" class=\"data row2 col0\" >config</td>\n",
                            "      <td id=\"T_fa034_row2_col1\" class=\"data row2 col1\" >1</td>\n",
                            "      <td id=\"T_fa034_row2_col2\" class=\"data row2 col2\" >9</td>\n",
                            "      <td id=\"T_fa034_row2_col3\" class=\"data row2 col3\" >99</td>\n",
                            "      <td id=\"T_fa034_row2_col4\" class=\"data row2 col4\" >891</td>\n",
                            "      <td id=\"T_fa034_row2_col5\" class=\"data row2 col5\" >2</td>\n",
                            "      <td id=\"T_fa034_row2_col6\" class=\"data row2 col6\" >73728</td>\n",
                            "    </tr>\n",
                            "    <tr>\n",
                            "      <th id=\"T_fa034_level0_row3\" class=\"row_heading level0 row3\" >4</th>\n",
                            "      <td id=\"T_fa034_row3_col0\" class=\"data row3 col0\" >cosmosbookstore</td>\n",
                            "      <td id=\"T_fa034_row3_col1\" class=\"data row3 col1\" >1</td>\n",
                            "      <td id=\"T_fa034_row3_col2\" class=\"data row3 col2\" >96604</td>\n",
                            "      <td id=\"T_fa034_row3_col3\" class=\"data row3 col3\" >4145</td>\n",
                            "      <td id=\"T_fa034_row3_col4\" class=\"data row3 col4\" >400497620</td>\n",
                            "      <td id=\"T_fa034_row3_col5\" class=\"data row3 col5\" >1</td>\n",
                            "      <td id=\"T_fa034_row3_col6\" class=\"data row3 col6\" >1814528</td>\n",
                            "    </tr>\n",
                            "    <tr>\n",
                            "      <th id=\"T_fa034_level0_row4\" class=\"row_heading level0 row4\" >5</th>\n",
                            "      <td id=\"T_fa034_row4_col0\" class=\"data row4 col0\" >kagglemeta</td>\n",
                            "      <td id=\"T_fa034_row4_col1\" class=\"data row4 col1\" >2</td>\n",
                            "      <td id=\"T_fa034_row4_col2\" class=\"data row4 col2\" >87934912</td>\n",
                            "      <td id=\"T_fa034_row4_col3\" class=\"data row4 col3\" >190</td>\n",
                            "      <td id=\"T_fa034_row4_col4\" class=\"data row4 col4\" >16725184704</td>\n",
                            "      <td id=\"T_fa034_row4_col5\" class=\"data row4 col5\" >2</td>\n",
                            "      <td id=\"T_fa034_row4_col6\" class=\"data row4 col6\" >891363328</td>\n",
                            "    </tr>\n",
                            "    <tr>\n",
                            "      <th id=\"T_fa034_level0_row5\" class=\"row_heading level0 row5\" >6</th>\n",
                            "      <td id=\"T_fa034_row5_col0\" class=\"data row5 col0\" >local</td>\n",
                            "      <td id=\"T_fa034_row5_col1\" class=\"data row5 col1\" >1</td>\n",
                            "      <td id=\"T_fa034_row5_col2\" class=\"data row5 col2\" >48</td>\n",
                            "      <td id=\"T_fa034_row5_col3\" class=\"data row5 col3\" >1707</td>\n",
                            "      <td id=\"T_fa034_row5_col4\" class=\"data row5 col4\" >81936</td>\n",
                            "      <td id=\"T_fa034_row5_col5\" class=\"data row5 col5\" >1</td>\n",
                            "      <td id=\"T_fa034_row5_col6\" class=\"data row5 col6\" >36864</td>\n",
                            "    </tr>\n",
                            "    <tr>\n",
                            "      <th id=\"T_fa034_level0_row6\" class=\"row_heading level0 row6\" >7</th>\n",
                            "      <td id=\"T_fa034_row6_col0\" class=\"data row6 col0\" >pe_orig</td>\n",
                            "      <td id=\"T_fa034_row6_col1\" class=\"data row6 col1\" >1</td>\n",
                            "      <td id=\"T_fa034_row6_col2\" class=\"data row6 col2\" >57703820</td>\n",
                            "      <td id=\"T_fa034_row6_col3\" class=\"data row6 col3\" >668</td>\n",
                            "      <td id=\"T_fa034_row6_col4\" class=\"data row6 col4\" >38561434711</td>\n",
                            "      <td id=\"T_fa034_row6_col5\" class=\"data row6 col5\" >1</td>\n",
                            "      <td id=\"T_fa034_row6_col6\" class=\"data row6 col6\" >861585408</td>\n",
                            "    </tr>\n",
                            "    <tr>\n",
                            "      <th id=\"T_fa034_level0_row7\" class=\"row_heading level0 row7\" >8</th>\n",
                            "      <td id=\"T_fa034_row7_col0\" class=\"data row7 col0\" >portugeseelection</td>\n",
                            "      <td id=\"T_fa034_row7_col1\" class=\"data row7 col1\" >1</td>\n",
                            "      <td id=\"T_fa034_row7_col2\" class=\"data row7 col2\" >30230000</td>\n",
                            "      <td id=\"T_fa034_row7_col3\" class=\"data row7 col3\" >687</td>\n",
                            "      <td id=\"T_fa034_row7_col4\" class=\"data row7 col4\" >20782964055</td>\n",
                            "      <td id=\"T_fa034_row7_col5\" class=\"data row7 col5\" >1</td>\n",
                            "      <td id=\"T_fa034_row7_col6\" class=\"data row7 col6\" >450932736</td>\n",
                            "    </tr>\n",
                            "    <tr>\n",
                            "      <th id=\"T_fa034_level0_row8\" class=\"row_heading level0 row8\" >9</th>\n",
                            "      <td id=\"T_fa034_row8_col0\" class=\"data row8 col0\" >sample_mflix</td>\n",
                            "      <td id=\"T_fa034_row8_col1\" class=\"data row8 col1\" >5</td>\n",
                            "      <td id=\"T_fa034_row8_col2\" class=\"data row8 col2\" >75583</td>\n",
                            "      <td id=\"T_fa034_row8_col3\" class=\"data row8 col3\" >691</td>\n",
                            "      <td id=\"T_fa034_row8_col4\" class=\"data row8 col4\" >52300763</td>\n",
                            "      <td id=\"T_fa034_row8_col5\" class=\"data row8 col5\" >5</td>\n",
                            "      <td id=\"T_fa034_row8_col6\" class=\"data row8 col6\" >798720</td>\n",
                            "    </tr>\n",
                            "  </tbody>\n",
                            "</table>\n"
                        ],
                        "text/plain": [
                            "<pandas.io.formats.style.Styler at 0x227d4ff1c70>"
                        ]
                    },
                    "metadata": {},
                    "output_type": "display_data"
                }
            ],
            "source": [
                "source_mongodb.get_workload_info()\n",
                "source_mongodb.save_workload_info_to_csv()\n",
                "source_mongodb.print_workload_info()"
            ]
        }
    ],
    "metadata": {
        "extensions": {
            "azuredatastudio": {
                "version": 1,
                "views": []
            }
        },
        "interpreter": {
            "hash": "b55fd820d6497667805a850bbc8ca07829d28a8ac680a6e1356626fa47d6487a"
        },
        "kernelspec": {
            "display_name": "Python 3 (ipykernel)",
            "language": "python",
            "name": "python3"
        },
        "language_info": {
            "codemirror_mode": {
                "name": "ipython",
                "version": 3
            },
            "file_extension": ".py",
            "mimetype": "text/x-python",
            "name": "python",
            "nbconvert_exporter": "python",
            "pygments_lexer": "ipython3",
            "version": "3.8.10"
        },
        "orig_nbformat": 4
    },
    "nbformat": 4,
    "nbformat_minor": 2
}
