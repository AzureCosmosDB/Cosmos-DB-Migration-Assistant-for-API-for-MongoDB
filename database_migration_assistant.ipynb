{
    "metadata": {
        "kernelspec": {
            "name": "python3",
            "display_name": "Python 3 (ipykernel)",
            "language": "python"
        },
        "language_info": {
            "name": "python",
            "version": "3.8.10",
            "mimetype": "text/x-python",
            "codemirror_mode": {
                "name": "ipython",
                "version": 3
            },
            "pygments_lexer": "ipython3",
            "nbconvert_exporter": "python",
            "file_extension": ".py"
        },
        "extensions": {
            "azuredatastudio": {
                "version": 1,
                "views": []
            }
        },
        "interpreter": {
            "hash": "b55fd820d6497667805a850bbc8ca07829d28a8ac680a6e1356626fa47d6487a"
        },
        "orig_nbformat": 4
    },
    "nbformat_minor": 2,
    "nbformat": 4,
    "cells": [
        {
            "cell_type": "markdown",
            "source": [
                "# Database Migration Assistant for Azure Cosmos DB API for MongoDB\n",
                "\n",
                "This notebook can be used to gather source environment details and assess incompatibilities while migrating from your native MongoDB instance to Azure Cosmos DB API for MongoDB."
            ],
            "metadata": {
                "azdata_cell_guid": "1b579753-ef67-437f-a686-8938d25041a4"
            },
            "attachments": {}
        },
        {
            "cell_type": "markdown",
            "source": [
                "**Please update the input parameter below for the assessment.** **This would be the source cluster endpoint against which you want to run the assessment.**"
            ],
            "metadata": {
                "azdata_cell_guid": "f91f05a3-1829-43e1-be2a-0602dc93702e"
            },
            "attachments": {}
        },
        {
            "cell_type": "code",
            "source": [
                "source_connection_string = \"\""
            ],
            "metadata": {
                "azdata_cell_guid": "3dd7c08d-3595-41d2-b474-866173492bd9",
                "extensions": {
                    "azuredatastudio": {
                        "views": []
                    }
                },
                "tags": [
                    "parameters"
                ]
            },
            "outputs": [],
            "execution_count": 1
        },
        {
            "cell_type": "code",
            "source": [
                "from source_mongodb import SourceMongoDB\n",
                "source_mongodb = SourceMongoDB(endpoint=source_connection_string)"
            ],
            "metadata": {
                "azdata_cell_guid": "60b3eeff-2058-4b4b-ace7-04efb2d30f82",
                "tags": []
            },
            "outputs": [],
            "execution_count": 2
        },
        {
            "cell_type": "markdown",
            "source": [
                "**The next cell gathers source environment info from the endpoint connection string provided.**\n",
                "\n",
                "You may provide these details to the Microsoft points of contact for TCO calculation or migration discussions."
            ],
            "metadata": {
                "azdata_cell_guid": "bb12741f-a56f-458a-a5d7-abc3dbae71d5"
            },
            "attachments": {}
        },
        {
            "cell_type": "code",
            "source": [
                "source_mongodb.get_environment_info()\n",
                "source_mongodb.print_environment_info()"
            ],
            "metadata": {
                "azdata_cell_guid": "96a4cfe9-e50a-4daf-9cf4-22513df539fd",
                "tags": []
            },
            "outputs": [
                {
                    "name": "stdout",
                    "text": "MongoDB version:  3.6.21\nLicense Type:  Community\nIs Sharded endpoint: Yes\nShard details: \n",
                    "output_type": "stream"
                },
                {
                    "data": {
                        "text/plain": "       _id                   host  state\n1  shard01  shard01/shard01:27017      1\n2  shard02  shard02/shard02:27017      1",
                        "text/html": "<div>\n<style scoped>\n    .dataframe tbody tr th:only-of-type {\n        vertical-align: middle;\n    }\n\n    .dataframe tbody tr th {\n        vertical-align: top;\n    }\n\n    .dataframe thead th {\n        text-align: right;\n    }\n</style>\n<table border=\"1\" class=\"dataframe\">\n  <thead>\n    <tr style=\"text-align: right;\">\n      <th></th>\n      <th>_id</th>\n      <th>host</th>\n      <th>state</th>\n    </tr>\n  </thead>\n  <tbody>\n    <tr>\n      <th>1</th>\n      <td>shard01</td>\n      <td>shard01/shard01:27017</td>\n      <td>1</td>\n    </tr>\n    <tr>\n      <th>2</th>\n      <td>shard02</td>\n      <td>shard02/shard02:27017</td>\n      <td>1</td>\n    </tr>\n  </tbody>\n</table>\n</div>"
                    },
                    "metadata": {},
                    "output_type": "display_data"
                }
            ],
            "execution_count": 3
        },
        {
            "cell_type": "markdown",
            "source": [
                "**The next cell gathers source workload info from the endpoint connection string provided, stores the info to csv and prints them in this notebook.**\n",
                "\n",
                "Csv output files _workload\\_database\\_details.csv_ and _workload\\_collection\\_details.csv_ would be stored in same path as the notebook."
            ],
            "metadata": {
                "azdata_cell_guid": "bb12741f-a56f-458a-a5d7-abc3dbae71d5"
            },
            "attachments": {}
        },
        {
            "cell_type": "code",
            "source": [
                "source_mongodb.get_workload_info()\n",
                "source_mongodb.save_workload_info_to_csv()\n",
                "source_mongodb.print_workload_info()"
            ],
            "metadata": {
                "azdata_cell_guid": "46ca5b09-2fa8-4a63-9368-1d147a946a82"
            },
            "outputs": [
                {
                    "name": "stdout",
                    "text": "Workload database details: \n",
                    "output_type": "stream"
                },
                {
                    "data": {
                        "text/plain": "<pandas.io.formats.style.Styler at 0x2ab9158d190>",
                        "text/html": "<style type=\"text/css\">\n#T_84bb9_ th {\n  text-align: left;\n}\n#T_84bb9_row0_col0, #T_84bb9_row0_col1, #T_84bb9_row0_col2, #T_84bb9_row0_col3, #T_84bb9_row0_col4, #T_84bb9_row0_col5, #T_84bb9_row0_col6, #T_84bb9_row1_col0, #T_84bb9_row1_col1, #T_84bb9_row1_col2, #T_84bb9_row1_col3, #T_84bb9_row1_col4, #T_84bb9_row1_col5, #T_84bb9_row1_col6 {\n  text-align: left;\n}\n</style>\n<table id=\"T_84bb9_\">\n  <thead>\n    <tr>\n      <th class=\"blank level0\" >&nbsp;</th>\n      <th class=\"col_heading level0 col0\" >DB Name</th>\n      <th class=\"col_heading level0 col1\" >Collection Count</th>\n      <th class=\"col_heading level0 col2\" >Doc Count</th>\n      <th class=\"col_heading level0 col3\" >Avg Doc Size</th>\n      <th class=\"col_heading level0 col4\" >Data Size</th>\n      <th class=\"col_heading level0 col5\" >Index Count</th>\n      <th class=\"col_heading level0 col6\" >Index Size</th>\n    </tr>\n  </thead>\n  <tbody>\n    <tr>\n      <th id=\"T_84bb9_level0_row0\" class=\"row_heading level0 row0\" >1</th>\n      <td id=\"T_84bb9_row0_col0\" class=\"data row0 col0\" >prodDB</td>\n      <td id=\"T_84bb9_row0_col1\" class=\"data row0 col1\" >3</td>\n      <td id=\"T_84bb9_row0_col2\" class=\"data row0 col2\" >1000</td>\n      <td id=\"T_84bb9_row0_col3\" class=\"data row0 col3\" >2087</td>\n      <td id=\"T_84bb9_row0_col4\" class=\"data row0 col4\" >2087500</td>\n      <td id=\"T_84bb9_row0_col5\" class=\"data row0 col5\" >5</td>\n      <td id=\"T_84bb9_row0_col6\" class=\"data row0 col6\" >81920</td>\n    </tr>\n    <tr>\n      <th id=\"T_84bb9_level0_row1\" class=\"row_heading level0 row1\" >2</th>\n      <td id=\"T_84bb9_row1_col0\" class=\"data row1 col0\" >user_info</td>\n      <td id=\"T_84bb9_row1_col1\" class=\"data row1 col1\" >1</td>\n      <td id=\"T_84bb9_row1_col2\" class=\"data row1 col2\" >0</td>\n      <td id=\"T_84bb9_row1_col3\" class=\"data row1 col3\" >0</td>\n      <td id=\"T_84bb9_row1_col4\" class=\"data row1 col4\" >0</td>\n      <td id=\"T_84bb9_row1_col5\" class=\"data row1 col5\" >3</td>\n      <td id=\"T_84bb9_row1_col6\" class=\"data row1 col6\" >12288</td>\n    </tr>\n  </tbody>\n</table>\n"
                    },
                    "metadata": {},
                    "output_type": "display_data"
                },
                {
                    "name": "stdout",
                    "text": "Workload collection details: \n",
                    "output_type": "stream"
                },
                {
                    "data": {
                        "text/plain": "<pandas.io.formats.style.Styler at 0x2ab9158d190>",
                        "text/html": "<style type=\"text/css\">\n#T_6f81f_ th {\n  text-align: left;\n}\n#T_6f81f_row0_col0, #T_6f81f_row0_col1, #T_6f81f_row0_col2, #T_6f81f_row0_col3, #T_6f81f_row0_col4, #T_6f81f_row0_col5, #T_6f81f_row0_col6, #T_6f81f_row0_col7, #T_6f81f_row1_col0, #T_6f81f_row1_col1, #T_6f81f_row1_col2, #T_6f81f_row1_col3, #T_6f81f_row1_col4, #T_6f81f_row1_col5, #T_6f81f_row1_col6, #T_6f81f_row1_col7, #T_6f81f_row2_col0, #T_6f81f_row2_col1, #T_6f81f_row2_col2, #T_6f81f_row2_col3, #T_6f81f_row2_col4, #T_6f81f_row2_col5, #T_6f81f_row2_col6, #T_6f81f_row2_col7 {\n  text-align: left;\n}\n</style>\n<table id=\"T_6f81f_\">\n  <thead>\n    <tr>\n      <th class=\"blank level0\" >&nbsp;</th>\n      <th class=\"col_heading level0 col0\" >DB Name</th>\n      <th class=\"col_heading level0 col1\" >Collection Name</th>\n      <th class=\"col_heading level0 col2\" >isSharded</th>\n      <th class=\"col_heading level0 col3\" >Doc Count</th>\n      <th class=\"col_heading level0 col4\" >Avg Doc Size</th>\n      <th class=\"col_heading level0 col5\" >Data Size</th>\n      <th class=\"col_heading level0 col6\" >Index Count</th>\n      <th class=\"col_heading level0 col7\" >Index Size</th>\n    </tr>\n  </thead>\n  <tbody>\n    <tr>\n      <th id=\"T_6f81f_level0_row0\" class=\"row_heading level0 row0\" >1</th>\n      <td id=\"T_6f81f_row0_col0\" class=\"data row0 col0\" >prodDB</td>\n      <td id=\"T_6f81f_row0_col1\" class=\"data row0 col1\" >requestLog</td>\n      <td id=\"T_6f81f_row0_col2\" class=\"data row0 col2\" >True</td>\n      <td id=\"T_6f81f_row0_col3\" class=\"data row0 col3\" >500</td>\n      <td id=\"T_6f81f_row0_col4\" class=\"data row0 col4\" >2078</td>\n      <td id=\"T_6f81f_row0_col5\" class=\"data row0 col5\" >1039000</td>\n      <td id=\"T_6f81f_row0_col6\" class=\"data row0 col6\" >1</td>\n      <td id=\"T_6f81f_row0_col7\" class=\"data row0 col7\" >16384</td>\n    </tr>\n    <tr>\n      <th id=\"T_6f81f_level0_row1\" class=\"row_heading level0 row1\" >2</th>\n      <td id=\"T_6f81f_row1_col0\" class=\"data row1 col0\" >prodDB</td>\n      <td id=\"T_6f81f_row1_col1\" class=\"data row1 col1\" >prod_version</td>\n      <td id=\"T_6f81f_row1_col2\" class=\"data row1 col2\" >True</td>\n      <td id=\"T_6f81f_row1_col3\" class=\"data row1 col3\" >500</td>\n      <td id=\"T_6f81f_row1_col4\" class=\"data row1 col4\" >2097</td>\n      <td id=\"T_6f81f_row1_col5\" class=\"data row1 col5\" >1048500</td>\n      <td id=\"T_6f81f_row1_col6\" class=\"data row1 col6\" >2</td>\n      <td id=\"T_6f81f_row1_col7\" class=\"data row1 col7\" >65536</td>\n    </tr>\n    <tr>\n      <th id=\"T_6f81f_level0_row2\" class=\"row_heading level0 row2\" >3</th>\n      <td id=\"T_6f81f_row2_col0\" class=\"data row2 col0\" >user_info</td>\n      <td id=\"T_6f81f_row2_col1\" class=\"data row2 col1\" >profile</td>\n      <td id=\"T_6f81f_row2_col2\" class=\"data row2 col2\" >False</td>\n      <td id=\"T_6f81f_row2_col3\" class=\"data row2 col3\" >0</td>\n      <td id=\"T_6f81f_row2_col4\" class=\"data row2 col4\" >0</td>\n      <td id=\"T_6f81f_row2_col5\" class=\"data row2 col5\" >0</td>\n      <td id=\"T_6f81f_row2_col6\" class=\"data row2 col6\" >3</td>\n      <td id=\"T_6f81f_row2_col7\" class=\"data row2 col7\" >12288</td>\n    </tr>\n  </tbody>\n</table>\n"
                    },
                    "metadata": {},
                    "output_type": "display_data"
                }
            ],
            "execution_count": 4
        }
    ]
}