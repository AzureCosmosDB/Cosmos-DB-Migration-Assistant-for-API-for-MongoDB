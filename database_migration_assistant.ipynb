{
    "metadata": {
        "kernelspec": {
            "display_name": "Python 3 (ipykernel)",
            "language": "python",
            "name": "python3"
        },
        "language_info": {
            "codemirror_mode": {
                "name": "ipython",
                "version": 3
            },
            "file_extension": ".py",
            "mimetype": "text/x-python",
            "name": "python",
            "nbconvert_exporter": "python",
            "pygments_lexer": "ipython3",
            "version": "3.8.10"
        },
        "extensions": {
            "azuredatastudio": {
                "version": 1,
                "views": []
            }
        },
        "interpreter": {
            "hash": "b55fd820d6497667805a850bbc8ca07829d28a8ac680a6e1356626fa47d6487a"
        },
        "orig_nbformat": 4
    },
    "nbformat_minor": 2,
    "nbformat": 4,
    "cells": [
        {
            "cell_type": "code",
            "source": [],
            "metadata": {
                "azdata_cell_guid": "1f78640e-e217-4aff-9c85-07110707f772"
            },
            "outputs": [],
            "execution_count": null
        },
        {
            "cell_type": "markdown",
            "source": [
                "# Database Migration Assistant for Azure Cosmos DB API for MongoDB\n",
                "\n",
                "This notebook can be used to gather source environment details and assess incompatibilities while migrating from your native MongoDB instance to Azure Cosmos DB API for MongoDB."
            ],
            "metadata": {
                "azdata_cell_guid": "1b579753-ef67-437f-a686-8938d25041a4"
            },
            "attachments": {}
        },
        {
            "cell_type": "markdown",
            "source": [
                "**Please update the parameter below for the assessment.** **This would be the source cluster endpoint against which you want to run the assessment.**"
            ],
            "metadata": {
                "azdata_cell_guid": "f91f05a3-1829-43e1-be2a-0602dc93702e"
            },
            "attachments": {}
        },
        {
            "cell_type": "code",
            "source": [
                "source_connection_string = \"\""
            ],
            "metadata": {
                "azdata_cell_guid": "3dd7c08d-3595-41d2-b474-866173492bd9",
                "extensions": {
                    "azuredatastudio": {
                        "views": []
                    }
                },
                "tags": [
                    "parameters"
                ]
            },
            "outputs": [],
            "execution_count": 4
        },
        {
            "cell_type": "code",
            "source": [
                "from source_mongodb import SourceMongoDB\n",
                "source_mongodb = SourceMongoDB(endpoint=source_connection_string)"
            ],
            "metadata": {
                "azdata_cell_guid": "60b3eeff-2058-4b4b-ace7-04efb2d30f82",
                "tags": []
            },
            "outputs": [],
            "execution_count": 5
        },
        {
            "cell_type": "markdown",
            "source": [
                "**The next cell gathers source environment info from the endpoint connection string provided.**\n",
                "\n",
                "You may provide these details to Microsoft points of contact for TCO calculation or migration discussions."
            ],
            "metadata": {
                "azdata_cell_guid": "bb12741f-a56f-458a-a5d7-abc3dbae71d5"
            },
            "attachments": {}
        },
        {
            "cell_type": "code",
            "source": [
                "source_mongodb.get_environment_info()\n",
                "source_mongodb.print_environment_info()"
            ],
            "metadata": {
                "azdata_cell_guid": "96a4cfe9-e50a-4daf-9cf4-22513df539fd",
                "tags": []
            },
            "outputs": [
                {
                    "output_type": "stream",
                    "name": "stdout",
                    "text": "MongoDB version:  4.0.23\nLicense Type:  Community\n"
                }
            ],
            "execution_count": 6
        },
        {
            "cell_type": "markdown",
            "source": [
                "**The next cell gathers source workload info from the endpoint connection string provided.**"
            ],
            "metadata": {
                "azdata_cell_guid": "bb12741f-a56f-458a-a5d7-abc3dbae71d5"
            },
            "attachments": {}
        },
        {
            "cell_type": "code",
            "source": [
                "source_mongodb.get_workload_info()"
            ],
            "metadata": {
                "azdata_cell_guid": "46ca5b09-2fa8-4a63-9368-1d147a946a82"
            },
            "outputs": [],
            "execution_count": 7
        }
    ]
}